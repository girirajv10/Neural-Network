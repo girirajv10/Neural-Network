{
  "nbformat": 4,
  "nbformat_minor": 0,
  "metadata": {
    "colab": {
      "name": "CNN on MNIST Number Dataset.ipynb",
      "provenance": [],
      "collapsed_sections": []
    },
    "kernelspec": {
      "name": "python3",
      "display_name": "Python 3"
    },
    "language_info": {
      "name": "python"
    }
  },
  "cells": [
    {
      "cell_type": "code",
      "metadata": {
        "id": "6U-IAcW8zpRt"
      },
      "source": [
        "#########################################\n",
        "# CNN on MNIST Number Dataset\n",
        "# By Giriraj Vaishnav\n",
        "#########################################"
      ],
      "execution_count": 13,
      "outputs": []
    },
    {
      "cell_type": "code",
      "metadata": {
        "id": "R3cIJhU30E5f"
      },
      "source": [
        "# Importing the necessary libraries\n",
        "\n",
        "import numpy as np\n",
        "from keras.models import Sequential\n",
        "from keras.layers import Dense\n",
        "from keras.utils import np_utils\n",
        "from keras.layers import Dropout\n",
        "from keras.layers import Flatten\n",
        "from keras.layers.convolutional import Conv2D\n",
        "from keras.layers.convolutional import MaxPooling2D"
      ],
      "execution_count": 14,
      "outputs": []
    },
    {
      "cell_type": "code",
      "metadata": {
        "id": "MuafApU10GJU"
      },
      "source": [
        "# Set the seed for reproducibility and load the data MNIST dataset\n",
        "\n",
        "seed=10\n",
        "np.random.seed(seed)\n",
        "(X_train,y_train), (X_test, y_test)= mnist.load_data()"
      ],
      "execution_count": 15,
      "outputs": []
    },
    {
      "cell_type": "code",
      "metadata": {
        "id": "3Ka08-y00eSD"
      },
      "source": [
        "# Convert the data into float values\n",
        "\n",
        "X_train=X_train.reshape(X_train.shape[0], 1,28,28).astype('float32')\n",
        "X_test=X_test.reshape(X_test.shape[0], 1,28,28).astype('float32')"
      ],
      "execution_count": 16,
      "outputs": []
    },
    {
      "cell_type": "code",
      "metadata": {
        "colab": {
          "base_uri": "https://localhost:8080/"
        },
        "id": "09uL8Uo40oHJ",
        "outputId": "de12390e-e849-48c7-82fd-9329c955af5f"
      },
      "source": [
        "# Normalize the data\n",
        "\n",
        "X_train=X_train/255\n",
        "X_test=X_test/255\n",
        "y_train= np_utils.to_categorical(y_train)\n",
        "y_test= np_utils.to_categorical(y_test)\n",
        "num_classes=y_train.shape[1]\n",
        "print(num_classes)"
      ],
      "execution_count": 17,
      "outputs": [
        {
          "output_type": "stream",
          "text": [
            "10\n"
          ],
          "name": "stdout"
        }
      ]
    },
    {
      "cell_type": "code",
      "metadata": {
        "colab": {
          "base_uri": "https://localhost:8080/"
        },
        "id": "laBq5Tgz0tv1",
        "outputId": "4b8492cc-398f-4c77-c97c-be3c85bf3570"
      },
      "source": [
        "# Training the CNN model \n",
        "\n",
        "model=Sequential()\n",
        "model.add(Conv2D(32,5,5, padding='same',input_shape=(1,28,28), activation='relu'))\n",
        "model.add(MaxPooling2D(pool_size=(2,2), padding='same'))\n",
        "model.add(Dropout(0.2))\n",
        "model.add(Flatten())\n",
        "model.add(Dense(128, activation='relu'))\n",
        "model.add(Dense(num_classes, activation='softmax'))\n",
        "model.compile(loss='categorical_crossentropy', optimizer='adam', metrics=['accuracy'])\n",
        "H = model.fit(X_train, y_train, validation_data=(X_test,y_test),epochs=10, batch_size=200, verbose=2)"
      ],
      "execution_count": 18,
      "outputs": [
        {
          "output_type": "stream",
          "text": [
            "Epoch 1/10\n",
            "300/300 - 3s - loss: 0.8074 - accuracy: 0.7508 - val_loss: 0.3084 - val_accuracy: 0.9072\n",
            "Epoch 2/10\n",
            "300/300 - 2s - loss: 0.3496 - accuracy: 0.8912 - val_loss: 0.2203 - val_accuracy: 0.9343\n",
            "Epoch 3/10\n",
            "300/300 - 2s - loss: 0.2825 - accuracy: 0.9130 - val_loss: 0.1778 - val_accuracy: 0.9447\n",
            "Epoch 4/10\n",
            "300/300 - 2s - loss: 0.2511 - accuracy: 0.9223 - val_loss: 0.1560 - val_accuracy: 0.9525\n",
            "Epoch 5/10\n",
            "300/300 - 2s - loss: 0.2234 - accuracy: 0.9303 - val_loss: 0.1410 - val_accuracy: 0.9550\n",
            "Epoch 6/10\n",
            "300/300 - 2s - loss: 0.2058 - accuracy: 0.9361 - val_loss: 0.1236 - val_accuracy: 0.9615\n",
            "Epoch 7/10\n",
            "300/300 - 2s - loss: 0.1934 - accuracy: 0.9400 - val_loss: 0.1154 - val_accuracy: 0.9650\n",
            "Epoch 8/10\n",
            "300/300 - 2s - loss: 0.1812 - accuracy: 0.9427 - val_loss: 0.1129 - val_accuracy: 0.9643\n",
            "Epoch 9/10\n",
            "300/300 - 2s - loss: 0.1743 - accuracy: 0.9453 - val_loss: 0.1035 - val_accuracy: 0.9674\n",
            "Epoch 10/10\n",
            "300/300 - 2s - loss: 0.1660 - accuracy: 0.9473 - val_loss: 0.1014 - val_accuracy: 0.9687\n"
          ],
          "name": "stdout"
        }
      ]
    },
    {
      "cell_type": "code",
      "metadata": {
        "colab": {
          "base_uri": "https://localhost:8080/"
        },
        "id": "fixxoR0V1Arl",
        "outputId": "5ccae97a-2e46-4f5b-b98d-547cc5b67696"
      },
      "source": [
        "# Evaluating the model\n",
        "\n",
        "score= model.evaluate(X_test, y_test, verbose=0)\n",
        "print('The error is: %.2f%%'%(100-score[1]*100))"
      ],
      "execution_count": 19,
      "outputs": [
        {
          "output_type": "stream",
          "text": [
            "The error is: 3.13%\n"
          ],
          "name": "stdout"
        }
      ]
    },
    {
      "cell_type": "code",
      "metadata": {
        "colab": {
          "base_uri": "https://localhost:8080/",
          "height": 295
        },
        "id": "W9mEA4VS1POl",
        "outputId": "30bc5643-3dea-4cdc-a7c7-eb700087f23e"
      },
      "source": [
        "# Ploting the graph for Training and Validation Loss\n",
        "\n",
        "from matplotlib import pyplot as plt\n",
        "plt.plot(range(0,10), H.history[\"loss\"], \"r\", label = \"Training Loss\")\n",
        "plt.plot(range(0,10), H.history[\"val_loss\"], \"b\", label = \"Validation Loss\")\n",
        "plt.title(\"Loss in CNN\")\n",
        "plt.legend(loc = \"upper right\")\n",
        "plt.xlabel(\"Number of Epochs\")\n",
        "plt.ylabel(\"Training and Validation Loss\")\n",
        "plt.show()"
      ],
      "execution_count": 20,
      "outputs": [
        {
          "output_type": "display_data",
          "data": {
            "image/png": "[encoded data removed]",
            "text/plain": [
              "<Figure size 432x288 with 1 Axes>"
            ]
          },
          "metadata": {
            "tags": [],
            "needs_background": "light"
          }
        }
      ]
    },
    {
      "cell_type": "code",
      "metadata": {
        "colab": {
          "base_uri": "https://localhost:8080/",
          "height": 295
        },
        "id": "4fITR50s1tB0",
        "outputId": "6100a974-79ca-4134-bf23-5482588d1c1c"
      },
      "source": [
        "# Ploting the graph for Training and Validation Accuracy\n",
        "\n",
        "from matplotlib import pyplot as plt\n",
        "plt.plot(range(0,10), H.history[\"accuracy\"], \"r\", label = \"Training Accuracy\")\n",
        "plt.plot(range(0,10), H.history[\"val_accuracy\"], \"b\", label = \"Validation Accuracy\")\n",
        "plt.title(\"Accuracy in CNN\")\n",
        "plt.legend(loc = \"lower right\")\n",
        "plt.xlabel(\"Number of Epochs\")\n",
        "plt.ylabel(\"Training and Validation Accuracy\")\n",
        "plt.show()"
      ],
      "execution_count": 21,
      "outputs": [
        {
          "output_type": "display_data",
          "data": {
            "image/png": "[encoded data removed]",
            "text/plain": [
              "<Figure size 432x288 with 1 Axes>"
            ]
          },
          "metadata": {
            "tags": [],
            "needs_background": "light"
          }
        }
      ]
    },
    {
      "cell_type": "code",
      "metadata": {
        "colab": {
          "base_uri": "https://localhost:8080/"
        },
        "id": "xjO6J_5q1yaw",
        "outputId": "ffea7077-e434-4809-f6f6-b1345970b55b"
      },
      "source": [
        "# Predicting the Test Set\n",
        "\n",
        "pred_labels = model.predict_classes(X_test)\n",
        "print(pred_labels)\n",
        "test_label = np.argmax(y_test, axis=1)\n",
        "print(test_label)"
      ],
      "execution_count": 22,
      "outputs": [
        {
          "output_type": "stream",
          "text": [
            "/usr/local/lib/python3.7/dist-packages/keras/engine/sequential.py:450: UserWarning: `model.predict_classes()` is deprecated and will be removed after 2021-01-01. Please use instead:* `np.argmax(model.predict(x), axis=-1)`,   if your model does multi-class classification   (e.g. if it uses a `softmax` last-layer activation).* `(model.predict(x) > 0.5).astype(\"int32\")`,   if your model does binary classification   (e.g. if it uses a `sigmoid` last-layer activation).\n",
            "  warnings.warn('`model.predict_classes()` is deprecated and '\n"
          ],
          "name": "stderr"
        },
        {
          "output_type": "stream",
          "text": [
            "[7 2 1 ... 4 5 6]\n",
            "[7 2 1 ... 4 5 6]\n"
          ],
          "name": "stdout"
        }
      ]
    },
    {
      "cell_type": "code",
      "metadata": {
        "colab": {
          "base_uri": "https://localhost:8080/"
        },
        "id": "MapXX87111ds",
        "outputId": "327a36e5-d8ed-48d6-b200-ab0ccc86c8db"
      },
      "source": [
        "# Confusion matrix\n",
        "\n",
        "from sklearn.metrics import confusion_matrix\n",
        "\n",
        "matrix = confusion_matrix(test_label, pred_labels)\n",
        "print('Confusion matrix : \\n',matrix)"
      ],
      "execution_count": 24,
      "outputs": [
        {
          "output_type": "stream",
          "text": [
            "Confusion matrix : \n",
            " [[ 965    0    1    1    0    1    7    1    3    1]\n",
            " [   0 1119    5    3    1    0    1    0    6    0]\n",
            " [   1    0 1008    9    1    1    2    7    3    0]\n",
            " [   0    0   11  975    0    5    0   11    4    4]\n",
            " [   2    0    1    0  954    0    2    5    2   16]\n",
            " [   3    2    1   19    3  849    6    1    5    3]\n",
            " [   7    2    2    0    3    4  937    1    2    0]\n",
            " [   0    1   14    2    8    1    1  989    1   11]\n",
            " [   3    1    2   18    2    4    9    4  929    2]\n",
            " [   2    5    2   10   15    2    0    8    3  962]]\n"
          ],
          "name": "stdout"
        }
      ]
    },
    {
      "cell_type": "code",
      "metadata": {
        "colab": {
          "base_uri": "https://localhost:8080/"
        },
        "id": "PfdKYLDU19b_",
        "outputId": "d03b6b6d-b9a2-4139-a5e5-d5d7e5e27543"
      },
      "source": [
        "# Classification report for precision, recall f1-score and accuracy\n",
        "\n",
        "from sklearn.metrics import classification_report\n",
        "\n",
        "report = classification_report(test_label,pred_labels)\n",
        "print('Classification report : \\n',report)"
      ],
      "execution_count": 25,
      "outputs": [
        {
          "output_type": "stream",
          "text": [
            "Classification report : \n",
            "               precision    recall  f1-score   support\n",
            "\n",
            "           0       0.98      0.98      0.98       980\n",
            "           1       0.99      0.99      0.99      1135\n",
            "           2       0.96      0.98      0.97      1032\n",
            "           3       0.94      0.97      0.95      1010\n",
            "           4       0.97      0.97      0.97       982\n",
            "           5       0.98      0.95      0.97       892\n",
            "           6       0.97      0.98      0.97       958\n",
            "           7       0.96      0.96      0.96      1028\n",
            "           8       0.97      0.95      0.96       974\n",
            "           9       0.96      0.95      0.96      1009\n",
            "\n",
            "    accuracy                           0.97     10000\n",
            "   macro avg       0.97      0.97      0.97     10000\n",
            "weighted avg       0.97      0.97      0.97     10000\n",
            "\n"
          ],
          "name": "stdout"
        }
      ]
    }
  ]
}