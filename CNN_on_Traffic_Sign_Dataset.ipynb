{
  "nbformat": 4,
  "nbformat_minor": 0,
  "metadata": {
    "colab": {
      "name": "CNN on Traffic Sign Dataset.ipynb",
      "provenance": [],
      "collapsed_sections": []
    },
    "kernelspec": {
      "name": "python3",
      "display_name": "Python 3"
    },
    "language_info": {
      "name": "python"
    }
  },
  "cells": [
    {
      "cell_type": "code",
      "metadata": {
        "id": "vCfRUjc5a-3G"
      },
      "source": [
        "####################################################\n",
        "# CNN on Traffic Sign Dataset\n",
        "# By Giriraj Vaishnav\n",
        "####################################################"
      ],
      "execution_count": null,
      "outputs": []
    },
    {
      "cell_type": "code",
      "metadata": {
        "id": "8kZbgmaDRxeF"
      },
      "source": [
        "# Importing the necessary libraries\n",
        "\n",
        "import os\n",
        "import numpy as np\n",
        "import pandas as pd\n",
        "import matplotlib.pyplot as plt\n",
        "from PIL import Image\n",
        "import tensorflow as tf\n",
        "from keras.utils import to_categorical\n",
        "from keras.layers import Conv2D, Dense, Flatten, MaxPool2D, Dropout"
      ],
      "execution_count": null,
      "outputs": []
    },
    {
      "cell_type": "code",
      "metadata": {
        "id": "G2l2NM4GR6MZ"
      },
      "source": [
        "# Load the dataset\n",
        "\n",
        "imgs_path = \"gtsrb-german-traffic-sign/Train\"\n",
        "data = []\n",
        "labels = []\n",
        "classes = 43\n",
        "for i in range(classes):\n",
        "    img_path = os.path.join(imgs_path, str(i)) #0-42\n",
        "    for img in os.listdir(img_path):\n",
        "        im = Image.open(p + '/' + img)\n",
        "        im = im.resize((30,30))\n",
        "        im = np.array(im)\n",
        "        data.append(im)\n",
        "        labels.append(i)\n",
        "data = np.array(data)\n",
        "labels = np.array(labels)\n",
        "print(\"success\")"
      ],
      "execution_count": null,
      "outputs": []
    },
    {
      "cell_type": "code",
      "metadata": {
        "id": "k-O0_6OWR_1Q"
      },
      "source": [
        "# Show sample image from dataset\n",
        "\n",
        "path = \"gtsrb-german-traffic-sign/Train/0/00000_00004_00015.png\"\n",
        "img = Image.open(i0)\n",
        "img = img.resize((30, 30))\n",
        "sr = np.array(img) \n",
        "plt.imshow(img)\n",
        "plt.show()"
      ],
      "execution_count": null,
      "outputs": []
    },
    {
      "cell_type": "code",
      "metadata": {
        "id": "QCb_Za2fSCN-"
      },
      "source": [
        "# Splitting the datset into train and test\n",
        "\n",
        "from sklearn.model_selection import train_test_split\n",
        "x_train, x_test, y_train, y_test = train_test_split(data, labels, test_size=0.2, random_state=42)\n",
        "print(\"Training shape: \",x_train.shape, y_train.shape)\n",
        "print(\"Testing shape: \",x_test.shape, y_test.shape)\n",
        "y_train = to_categorical(y_train, 43)\n",
        "y_test = to_categorical(y_test, 43)"
      ],
      "execution_count": null,
      "outputs": []
    },
    {
      "cell_type": "code",
      "metadata": {
        "id": "3qJHsqwdSdrI"
      },
      "source": [
        "# Building a CNN model\n",
        "\n",
        "model = Sequential()\n",
        "model.add(Conv2D(filters=32, kernel_size=(5,5), activation=\"relu\", input_shape=x_train.shape[1:]))\n",
        "model.add(Conv2D(filters=32, kernel_size=(5,5), activation=\"relu\"))\n",
        "model.add(MaxPool2D(pool_size=(2,2)))\n",
        "model.add(Dropout(rate=0.25))\n",
        "model.add(Conv2D(filters=64, kernel_size=(3,3), activation=\"relu\"))\n",
        "model.add(Conv2D(filters=64, kernel_size=(3,3), activation=\"relu\"))\n",
        "model.add(MaxPool2D(pool_size=(2,2)))\n",
        "model.add(Dropout(rate=0.25))\n",
        "model.add(Flatten())\n",
        "model.add(Dense(256, activation=\"relu\"))\n",
        "model.add(Dropout(rate=0.5))\n",
        "model.add(Dense(43, activation=\"softmax\"))\n",
        "\n",
        "model.compile(loss=\"categorical_crossentropy\", optimizer=\"adam\", metrics=[\"accuracy\"])\n",
        "\n",
        "epochs = 15\n",
        "H = model.fit(x_train, y_train, epochs=epochs, batch_size=64, validation_data=(x_test, y_test))"
      ],
      "execution_count": null,
      "outputs": []
    },
    {
      "cell_type": "code",
      "metadata": {
        "id": "C9tIZRcdSwLD"
      },
      "source": [
        "# Plot loss and accuracy graph using matplotlib\n",
        "\n",
        "plt.figure(0)\n",
        "plt.plot(H.history['accuracy'], label=\"Training accuracy\")\n",
        "plt.plot(H.history['val_accuracy'], label=\"val accuracy\")\n",
        "plt.title(\"Accuracy\")\n",
        "plt.xlabel(\"epochs\")\n",
        "plt.ylabel(\"accuracy\")\n",
        "plt.legend()\n",
        "plt.figure(1)\n",
        "plt.plot(H.history['loss'], label=\"training loss\")\n",
        "plt.plot(H.history['val_loss'], label=\"val loss\")\n",
        "plt.title(\"Loss\")\n",
        "plt.xlabel(\"epochs\")\n",
        "plt.ylabel(\"Loss\")\n",
        "plt.legend()\n",
        "plt.show()"
      ],
      "execution_count": null,
      "outputs": []
    },
    {
      "cell_type": "code",
      "metadata": {
        "id": "Xa-OXBrwS9Qh"
      },
      "source": [
        "# Test the model\n",
        "\n",
        "from sklearn.metrics import accuracy_score\n",
        "test = pd.read_csv(\"gtsrb-german-traffic-sign/Test.csv\")\n",
        "test_labels = test['ClassId'].values\n",
        "test_img_path = \"../input/gtsrb-german-traffic-sign\"\n",
        "test_imgs = test['Path'].values\n",
        "test_data = []\n",
        "test_labels = []\n",
        "for img in test_imgs:\n",
        "    im = Image.open(test_img_path + '/' + img)\n",
        "    im = im.resize((30,30))\n",
        "    im = np.array(im)\n",
        "    test_data.append(im)\n",
        "test_data = np.array(test_data)\n",
        "predictions = model.predict_classes(test_data)\n",
        "print(\"accuracy: \", accuracy_score(test_labels, predictions))"
      ],
      "execution_count": null,
      "outputs": []
    },
    {
      "cell_type": "code",
      "metadata": {
        "id": "etFKFkViTDz1"
      },
      "source": [
        "# Save the model\n",
        "\n",
        "model.save('traffic_classifier.h5')"
      ],
      "execution_count": null,
      "outputs": []
    },
    {
      "cell_type": "code",
      "metadata": {
        "id": "jmuQSWNzTPnl"
      },
      "source": [
        "# Dictionary to label all traffic signs class.\n",
        "\n",
        "classes = { 1:'Speed limit (20km/h)',\n",
        "            2:'Speed limit (30km/h)',\n",
        "            3:'Speed limit (50km/h)',\n",
        "            4:'Speed limit (60km/h)',\n",
        "            5:'Speed limit (70km/h)',\n",
        "            6:'Speed limit (80km/h)',\n",
        "            7:'End of speed limit (80km/h)',\n",
        "            8:'Speed limit (100km/h)',\n",
        "            9:'Speed limit (120km/h)',\n",
        "            10:'No passing',\n",
        "            11:'No passing veh over 3.5 tons',\n",
        "            12:'Right-of-way at intersection',\n",
        "            13:'Priority road',\n",
        "            14:'Yield',\n",
        "            15:'Stop',\n",
        "            16:'No vehicles',\n",
        "            17:'Veh > 3.5 tons prohibited',\n",
        "            18:'No entry',\n",
        "            19:'General caution',\n",
        "            20:'Dangerous curve left',\n",
        "            21:'Dangerous curve right',\n",
        "            22:'Double curve',\n",
        "            23:'Bumpy road',\n",
        "            24:'Slippery road',\n",
        "            25:'Road narrows on the right',\n",
        "            26:'Road work',\n",
        "            27:'Traffic signals',\n",
        "            28:'Pedestrians',\n",
        "            29:'Children crossing',\n",
        "            30:'Bicycles crossing',\n",
        "            31:'Beware of ice/snow',\n",
        "            32:'Wild animals crossing',\n",
        "            33:'End speed + passing limits',\n",
        "            34:'Turn right ahead',\n",
        "            35:'Turn left ahead',\n",
        "            36:'Ahead only',\n",
        "            37:'Go straight or right',\n",
        "            38:'Go straight or left',\n",
        "            39:'Keep right',\n",
        "            40:'Keep left',\n",
        "            41:'Roundabout mandatory',\n",
        "            42:'End of no passing',\n",
        "            43:'End no passing veh > 3.5 tons' }"
      ],
      "execution_count": null,
      "outputs": []
    }
  ]
}