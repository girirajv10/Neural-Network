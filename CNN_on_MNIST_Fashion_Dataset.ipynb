{
  "nbformat": 4,
  "nbformat_minor": 0,
  "metadata": {
    "colab": {
      "name": "CNN on MNIST Fashion Dataset.ipynb",
      "provenance": [],
      "collapsed_sections": []
    },
    "kernelspec": {
      "name": "python3",
      "display_name": "Python 3"
    },
    "language_info": {
      "name": "python"
    }
  },
  "cells": [
    {
      "cell_type": "code",
      "metadata": {
        "id": "ennWYXmnF6nw"
      },
      "source": [
        "#########################################\n",
        "# CNN on MNIST Fashion Dataset\n",
        "# By Giriraj Vaishnav\n",
        "#########################################"
      ],
      "execution_count": 1,
      "outputs": []
    },
    {
      "cell_type": "code",
      "metadata": {
        "id": "SxkWNyogGDmy"
      },
      "source": [
        "# Importing the necessary libraries\n",
        "\n",
        "import numpy as np\n",
        "import pandas as pd\n",
        "from keras.models import Sequential\n",
        "from keras.layers import Dense\n",
        "from keras.utils import np_utils\n",
        "from keras.datasets import fashion_mnist\n",
        "from keras.layers import Dropout\n",
        "from keras.layers import Flatten\n",
        "from keras.layers.convolutional import Conv2D\n",
        "from keras.layers.convolutional import MaxPooling2D"
      ],
      "execution_count": 4,
      "outputs": []
    },
    {
      "cell_type": "code",
      "metadata": {
        "colab": {
          "base_uri": "https://localhost:8080/"
        },
        "id": "YPEb60j6GZaF",
        "outputId": "6dab6321-5200-4b04-9fca-ce58fe744c58"
      },
      "source": [
        "# Set the seed for reproducibility and load the data MNIST dataset\n",
        "\n",
        "seed=10\n",
        "np.random.seed(seed)\n",
        "(X_train,y_train), (X_test, y_test)= fashion_mnist.load_data()"
      ],
      "execution_count": 5,
      "outputs": [
        {
          "output_type": "stream",
          "text": [
            "Downloading data from https://storage.googleapis.com/tensorflow/tf-keras-datasets/train-labels-idx1-ubyte.gz\n",
            "32768/29515 [=================================] - 0s 0us/step\n",
            "40960/29515 [=========================================] - 0s 0us/step\n",
            "Downloading data from https://storage.googleapis.com/tensorflow/tf-keras-datasets/train-images-idx3-ubyte.gz\n",
            "26427392/26421880 [==============================] - 0s 0us/step\n",
            "26435584/26421880 [==============================] - 0s 0us/step\n",
            "Downloading data from https://storage.googleapis.com/tensorflow/tf-keras-datasets/t10k-labels-idx1-ubyte.gz\n",
            "16384/5148 [===============================================================================================] - 0s 0us/step\n",
            "Downloading data from https://storage.googleapis.com/tensorflow/tf-keras-datasets/t10k-images-idx3-ubyte.gz\n",
            "4423680/4422102 [==============================] - 0s 0us/step\n",
            "4431872/4422102 [==============================] - 0s 0us/step\n"
          ],
          "name": "stdout"
        }
      ]
    },
    {
      "cell_type": "code",
      "metadata": {
        "id": "f1r2BEBlG4Bj"
      },
      "source": [
        "# Convert the data into float values\n",
        "\n",
        "X_train=X_train.reshape(X_train.shape[0], 1,28,28).astype('float32')\n",
        "X_test=X_test.reshape(X_test.shape[0], 1,28,28).astype('float32')"
      ],
      "execution_count": 6,
      "outputs": []
    },
    {
      "cell_type": "code",
      "metadata": {
        "colab": {
          "base_uri": "https://localhost:8080/"
        },
        "id": "0rDUTUwuHAbt",
        "outputId": "50dafd68-d3f3-488a-dfed-a581b1cbb122"
      },
      "source": [
        "# Normalize the data\n",
        "\n",
        "X_train=X_train/255\n",
        "X_test=X_test/255\n",
        "y_train= np_utils.to_categorical(y_train)\n",
        "y_test= np_utils.to_categorical(y_test)\n",
        "num_classes=y_train.shape[1]\n",
        "print(num_classes)"
      ],
      "execution_count": 7,
      "outputs": [
        {
          "output_type": "stream",
          "text": [
            "10\n"
          ],
          "name": "stdout"
        }
      ]
    },
    {
      "cell_type": "code",
      "metadata": {
        "colab": {
          "base_uri": "https://localhost:8080/"
        },
        "id": "9NxZC71RHD5i",
        "outputId": "180a73e0-e3b3-4242-b0a8-55418e70d40d"
      },
      "source": [
        "# Training the CNN model \n",
        "\n",
        "model=Sequential()\n",
        "model.add(Conv2D(32,5,5, padding='same',input_shape=(1,28,28), activation='relu'))\n",
        "model.add(MaxPooling2D(pool_size=(2,2), padding='same'))\n",
        "model.add(Dropout(0.2))\n",
        "model.add(Flatten())\n",
        "model.add(Dense(128, activation='relu'))\n",
        "model.add(Dense(num_classes, activation='softmax'))\n",
        "model.compile(loss='categorical_crossentropy', optimizer='adam', metrics=['accuracy'])\n",
        "H = model.fit(X_train, y_train, validation_data=(X_test,y_test),epochs=10, batch_size=200, verbose=2)"
      ],
      "execution_count": 8,
      "outputs": [
        {
          "output_type": "stream",
          "text": [
            "Epoch 1/10\n",
            "300/300 - 17s - loss: 0.8573 - accuracy: 0.6967 - val_loss: 0.5492 - val_accuracy: 0.8019\n",
            "Epoch 2/10\n",
            "300/300 - 2s - loss: 0.5296 - accuracy: 0.8094 - val_loss: 0.4624 - val_accuracy: 0.8339\n",
            "Epoch 3/10\n",
            "300/300 - 2s - loss: 0.4756 - accuracy: 0.8281 - val_loss: 0.4317 - val_accuracy: 0.8460\n",
            "Epoch 4/10\n",
            "300/300 - 2s - loss: 0.4454 - accuracy: 0.8390 - val_loss: 0.4130 - val_accuracy: 0.8508\n",
            "Epoch 5/10\n",
            "300/300 - 2s - loss: 0.4252 - accuracy: 0.8470 - val_loss: 0.4037 - val_accuracy: 0.8542\n",
            "Epoch 6/10\n",
            "300/300 - 2s - loss: 0.4091 - accuracy: 0.8522 - val_loss: 0.3868 - val_accuracy: 0.8606\n",
            "Epoch 7/10\n",
            "300/300 - 2s - loss: 0.4010 - accuracy: 0.8546 - val_loss: 0.3907 - val_accuracy: 0.8595\n",
            "Epoch 8/10\n",
            "300/300 - 2s - loss: 0.3897 - accuracy: 0.8589 - val_loss: 0.3728 - val_accuracy: 0.8646\n",
            "Epoch 9/10\n",
            "300/300 - 2s - loss: 0.3845 - accuracy: 0.8605 - val_loss: 0.3702 - val_accuracy: 0.8679\n",
            "Epoch 10/10\n",
            "300/300 - 2s - loss: 0.3753 - accuracy: 0.8642 - val_loss: 0.3692 - val_accuracy: 0.8646\n"
          ],
          "name": "stdout"
        }
      ]
    },
    {
      "cell_type": "code",
      "metadata": {
        "colab": {
          "base_uri": "https://localhost:8080/"
        },
        "id": "ny8yr_AvHYW6",
        "outputId": "925ffba0-fff2-4673-ec04-9fa11c26f367"
      },
      "source": [
        "# Evaluating the model\n",
        "\n",
        "score= model.evaluate(X_test, y_test, verbose=0)\n",
        "print('The error is: %.2f%%'%(100-score[1]*100))"
      ],
      "execution_count": 9,
      "outputs": [
        {
          "output_type": "stream",
          "text": [
            "The error is: 13.54%\n"
          ],
          "name": "stdout"
        }
      ]
    },
    {
      "cell_type": "code",
      "metadata": {
        "colab": {
          "base_uri": "https://localhost:8080/",
          "height": 295
        },
        "id": "v39w-PAdHcWO",
        "outputId": "b485b22f-f761-4783-c0ff-2cb470e3cb73"
      },
      "source": [
        "# Ploting the graph for Training and Validation Loss\n",
        "\n",
        "from matplotlib import pyplot as plt\n",
        "plt.plot(range(0,10), H.history[\"loss\"], \"r\", label = \"Training Loss\")\n",
        "plt.plot(range(0,10), H.history[\"val_loss\"], \"b\", label = \"Validation Loss\")\n",
        "plt.title(\"Loss in CNN\")\n",
        "plt.legend(loc = \"upper right\")\n",
        "plt.xlabel(\"Number of Epochs\")\n",
        "plt.ylabel(\"Training and Validation Loss\")\n",
        "plt.show()"
      ],
      "execution_count": 10,
      "outputs": [
        {
          "output_type": "display_data",
          "data": {
            "image/png": "[encoded data removed]",
            "text/plain": [
              "<Figure size 432x288 with 1 Axes>"
            ]
          },
          "metadata": {
            "tags": [],
            "needs_background": "light"
          }
        }
      ]
    },
    {
      "cell_type": "code",
      "metadata": {
        "colab": {
          "base_uri": "https://localhost:8080/",
          "height": 295
        },
        "id": "vjQ56uLoHiPh",
        "outputId": "fc27fe4d-9799-42ce-b8c5-f83c5cb4cc68"
      },
      "source": [
        "# Ploting the graph for Training and Validation Accuracy\n",
        "\n",
        "from matplotlib import pyplot as plt\n",
        "plt.plot(range(0,10), H.history[\"accuracy\"], \"r\", label = \"Training Accuracy\")\n",
        "plt.plot(range(0,10), H.history[\"val_accuracy\"], \"b\", label = \"Validation Accuracy\")\n",
        "plt.title(\"Accuracy in CNN\")\n",
        "plt.legend(loc = \"lower right\")\n",
        "plt.xlabel(\"Number of Epochs\")\n",
        "plt.ylabel(\"Training and Validation Accuracy\")\n",
        "plt.show()"
      ],
      "execution_count": 11,
      "outputs": [
        {
          "output_type": "display_data",
          "data": {
            "image/png": "[encoded data removed]",
            "text/plain": [
              "<Figure size 432x288 with 1 Axes>"
            ]
          },
          "metadata": {
            "tags": [],
            "needs_background": "light"
          }
        }
      ]
    },
    {
      "cell_type": "code",
      "metadata": {
        "colab": {
          "base_uri": "https://localhost:8080/"
        },
        "id": "JNJTYgIoHlNe",
        "outputId": "ec31e0c0-a913-40b4-ef1c-ed3aecc0ad80"
      },
      "source": [
        "# Predicting the Test Set\n",
        "\n",
        "pred_labels = model.predict_classes(X_test)\n",
        "print(pred_labels)\n",
        "test_label = np.argmax(y_test, axis=1)\n",
        "print(test_label)"
      ],
      "execution_count": 12,
      "outputs": [
        {
          "output_type": "stream",
          "text": [
            "/usr/local/lib/python3.7/dist-packages/keras/engine/sequential.py:450: UserWarning: `model.predict_classes()` is deprecated and will be removed after 2021-01-01. Please use instead:* `np.argmax(model.predict(x), axis=-1)`,   if your model does multi-class classification   (e.g. if it uses a `softmax` last-layer activation).* `(model.predict(x) > 0.5).astype(\"int32\")`,   if your model does binary classification   (e.g. if it uses a `sigmoid` last-layer activation).\n",
            "  warnings.warn('`model.predict_classes()` is deprecated and '\n"
          ],
          "name": "stderr"
        },
        {
          "output_type": "stream",
          "text": [
            "[9 2 1 ... 8 1 5]\n",
            "[9 2 1 ... 8 1 5]\n"
          ],
          "name": "stdout"
        }
      ]
    },
    {
      "cell_type": "code",
      "metadata": {
        "colab": {
          "base_uri": "https://localhost:8080/"
        },
        "id": "aBYnvYcdHnd_",
        "outputId": "d6383b97-cf1d-46d5-dc51-784373ab7b8a"
      },
      "source": [
        "# Confusion matrix\n",
        "\n",
        "from sklearn.metrics import confusion_matrix\n",
        "\n",
        "matrix = confusion_matrix(test_label, pred_labels)\n",
        "print('Confusion matrix : \\n',matrix)"
      ],
      "execution_count": 13,
      "outputs": [
        {
          "output_type": "stream",
          "text": [
            "Confusion matrix : \n",
            " [[843   1  11  33   6   2  93   0  11   0]\n",
            " [  4 956   0  30   3   0   7   0   0   0]\n",
            " [ 14   0 758  12 118   0  97   0   1   0]\n",
            " [ 39   7  13 871  37   0  30   0   3   0]\n",
            " [  0   0  87  40 796   0  76   0   1   0]\n",
            " [  1   0   0   1   0 963   0  18   2  15]\n",
            " [165   1  87  30  89   0 619   0   9   0]\n",
            " [  0   0   0   0   0  30   0 929   1  40]\n",
            " [  3   1   4   7   5   3  15   5 957   0]\n",
            " [  1   0   0   0   0   8   0  37   0 954]]\n"
          ],
          "name": "stdout"
        }
      ]
    },
    {
      "cell_type": "code",
      "metadata": {
        "colab": {
          "base_uri": "https://localhost:8080/"
        },
        "id": "aIM-ouKmHqh3",
        "outputId": "d5b97654-550f-45d8-d922-674939b9afdc"
      },
      "source": [
        "# Classification report for precision, recall f1-score and accuracy\n",
        "\n",
        "from sklearn.metrics import classification_report\n",
        "\n",
        "report = classification_report(test_label,pred_labels)\n",
        "print('Classification report : \\n',report)"
      ],
      "execution_count": 14,
      "outputs": [
        {
          "output_type": "stream",
          "text": [
            "Classification report : \n",
            "               precision    recall  f1-score   support\n",
            "\n",
            "           0       0.79      0.84      0.81      1000\n",
            "           1       0.99      0.96      0.97      1000\n",
            "           2       0.79      0.76      0.77      1000\n",
            "           3       0.85      0.87      0.86      1000\n",
            "           4       0.76      0.80      0.78      1000\n",
            "           5       0.96      0.96      0.96      1000\n",
            "           6       0.66      0.62      0.64      1000\n",
            "           7       0.94      0.93      0.93      1000\n",
            "           8       0.97      0.96      0.96      1000\n",
            "           9       0.95      0.95      0.95      1000\n",
            "\n",
            "    accuracy                           0.86     10000\n",
            "   macro avg       0.86      0.86      0.86     10000\n",
            "weighted avg       0.86      0.86      0.86     10000\n",
            "\n"
          ],
          "name": "stdout"
        }
      ]
    }
  ]
}