{
  "nbformat": 4,
  "nbformat_minor": 0,
  "metadata": {
    "colab": {
      "name": "ANN on MNIST Fashion Dataset.ipynb",
      "provenance": [],
      "collapsed_sections": []
    },
    "kernelspec": {
      "name": "python3",
      "display_name": "Python 3"
    },
    "language_info": {
      "name": "python"
    }
  },
  "cells": [
    {
      "cell_type": "code",
      "metadata": {
        "id": "A_C7XjOdIX-m"
      },
      "source": [
        "#########################################\n",
        "# ANN on MNIST Fashion Dataset\n",
        "# By Giriraj Vaishnav\n",
        "#########################################"
      ],
      "execution_count": 1,
      "outputs": []
    },
    {
      "cell_type": "code",
      "metadata": {
        "colab": {
          "base_uri": "https://localhost:8080/",
          "height": 469
        },
        "id": "ScBtF3PdImtk",
        "outputId": "518a4373-7849-4899-c5a1-bb8f6e82d9e7"
      },
      "source": [
        "# Loading the MNIST Dataset\n",
        "\n",
        "from keras.datasets import fashion_mnist\n",
        "import matplotlib.pyplot as plt\n",
        "(X_train,y_train), (X_test, y_test)= fashion_mnist.load_data()\n",
        "plt.subplot()\n",
        "plt.imshow(X_train[9], cmap=plt.get_cmap('gray'))"
      ],
      "execution_count": 3,
      "outputs": [
        {
          "output_type": "stream",
          "text": [
            "Downloading data from https://storage.googleapis.com/tensorflow/tf-keras-datasets/train-labels-idx1-ubyte.gz\n",
            "32768/29515 [=================================] - 0s 0us/step\n",
            "40960/29515 [=========================================] - 0s 0us/step\n",
            "Downloading data from https://storage.googleapis.com/tensorflow/tf-keras-datasets/train-images-idx3-ubyte.gz\n",
            "26427392/26421880 [==============================] - 0s 0us/step\n",
            "26435584/26421880 [==============================] - 0s 0us/step\n",
            "Downloading data from https://storage.googleapis.com/tensorflow/tf-keras-datasets/t10k-labels-idx1-ubyte.gz\n",
            "16384/5148 [===============================================================================================] - 0s 0us/step\n",
            "Downloading data from https://storage.googleapis.com/tensorflow/tf-keras-datasets/t10k-images-idx3-ubyte.gz\n",
            "4423680/4422102 [==============================] - 0s 0us/step\n",
            "4431872/4422102 [==============================] - 0s 0us/step\n"
          ],
          "name": "stdout"
        },
        {
          "output_type": "execute_result",
          "data": {
            "text/plain": [
              "<matplotlib.image.AxesImage at 0x7efcd1234890>"
            ]
          },
          "metadata": {
            "tags": []
          },
          "execution_count": 3
        },
        {
          "output_type": "display_data",
          "data": {
            "image/png": "[encoded data removed]",
            "text/plain": [
              "<Figure size 432x288 with 1 Axes>"
            ]
          },
          "metadata": {
            "tags": [],
            "needs_background": "light"
          }
        }
      ]
    },
    {
      "cell_type": "code",
      "metadata": {
        "id": "57u_e7tpItss"
      },
      "source": [
        "# Importing necessary libraries\n",
        "\n",
        "import numpy as np\n",
        "from keras.models import Sequential\n",
        "from keras.layers import Dense, Activation\n",
        "from keras.optimizers import SGD, Adam\n",
        "from keras.utils import np_utils"
      ],
      "execution_count": 4,
      "outputs": []
    },
    {
      "cell_type": "code",
      "metadata": {
        "id": "3vGCBR6iI1YL"
      },
      "source": [
        "# Reshape the Data\n",
        "\n",
        "number_pix=X_train.shape[1]*X_train.shape[2] \n",
        "X_train=X_train.reshape(X_train.shape[0], number_pix).astype('float32')\n",
        "X_test=X_test.reshape(X_test.shape[0], number_pix).astype('float32')"
      ],
      "execution_count": 5,
      "outputs": []
    },
    {
      "cell_type": "code",
      "metadata": {
        "colab": {
          "base_uri": "https://localhost:8080/"
        },
        "id": "OYQYkXN2I3nu",
        "outputId": "4ea6a093-6f66-4f91-c554-1e8f11a648a8"
      },
      "source": [
        "# Normalize the data\n",
        "\n",
        "X_train=X_train/255\n",
        "X_test=X_test/255\n",
        "y_train= np_utils.to_categorical(y_train)\n",
        "y_test= np_utils.to_categorical(y_test)\n",
        "num_classes=y_train.shape[1]\n",
        "print(num_classes)"
      ],
      "execution_count": 6,
      "outputs": [
        {
          "output_type": "stream",
          "text": [
            "10\n"
          ],
          "name": "stdout"
        }
      ]
    },
    {
      "cell_type": "code",
      "metadata": {
        "colab": {
          "base_uri": "https://localhost:8080/"
        },
        "id": "rx96L-r3I5u9",
        "outputId": "2c5f02d8-0e32-4fba-ca9b-68c1093cb278"
      },
      "source": [
        "# Training the ANN model\n",
        "\n",
        "model=Sequential()\n",
        "model.add(Dense(number_pix, input_dim=number_pix, activation='relu'))\n",
        "model.add(Dense(num_classes, activation='softmax'))\n",
        "model.compile(loss='categorical_crossentropy', optimizer='Adam', metrics=['accuracy'])\n",
        "H = model.fit(X_train, y_train, validation_data=(X_test,y_test),epochs=10, batch_size=200, verbose=2)"
      ],
      "execution_count": 7,
      "outputs": [
        {
          "output_type": "stream",
          "text": [
            "Epoch 1/10\n",
            "300/300 - 19s - loss: 0.5117 - accuracy: 0.8209 - val_loss: 0.4187 - val_accuracy: 0.8528\n",
            "Epoch 2/10\n",
            "300/300 - 4s - loss: 0.3718 - accuracy: 0.8683 - val_loss: 0.3958 - val_accuracy: 0.8592\n",
            "Epoch 3/10\n",
            "300/300 - 4s - loss: 0.3347 - accuracy: 0.8780 - val_loss: 0.3622 - val_accuracy: 0.8706\n",
            "Epoch 4/10\n",
            "300/300 - 4s - loss: 0.3086 - accuracy: 0.8888 - val_loss: 0.3522 - val_accuracy: 0.8733\n",
            "Epoch 5/10\n",
            "300/300 - 4s - loss: 0.2876 - accuracy: 0.8946 - val_loss: 0.3345 - val_accuracy: 0.8836\n",
            "Epoch 6/10\n",
            "300/300 - 4s - loss: 0.2742 - accuracy: 0.8988 - val_loss: 0.3366 - val_accuracy: 0.8749\n",
            "Epoch 7/10\n",
            "300/300 - 4s - loss: 0.2606 - accuracy: 0.9039 - val_loss: 0.3209 - val_accuracy: 0.8837\n",
            "Epoch 8/10\n",
            "300/300 - 4s - loss: 0.2464 - accuracy: 0.9090 - val_loss: 0.3248 - val_accuracy: 0.8853\n",
            "Epoch 9/10\n",
            "300/300 - 4s - loss: 0.2352 - accuracy: 0.9130 - val_loss: 0.3325 - val_accuracy: 0.8805\n",
            "Epoch 10/10\n",
            "300/300 - 4s - loss: 0.2255 - accuracy: 0.9154 - val_loss: 0.3183 - val_accuracy: 0.8855\n"
          ],
          "name": "stdout"
        }
      ]
    },
    {
      "cell_type": "code",
      "metadata": {
        "colab": {
          "base_uri": "https://localhost:8080/"
        },
        "id": "CSQ6gvTNI8QI",
        "outputId": "1efcf855-6d7b-4efa-87b7-080e3a92120f"
      },
      "source": [
        "# Evaluating the model\n",
        "\n",
        "score= model.evaluate(X_test, y_test, verbose=0)\n",
        "print('The error is: %.2f%%'%(100-score[1]*100))"
      ],
      "execution_count": 8,
      "outputs": [
        {
          "output_type": "stream",
          "text": [
            "The error is: 11.45%\n"
          ],
          "name": "stdout"
        }
      ]
    },
    {
      "cell_type": "code",
      "metadata": {
        "colab": {
          "base_uri": "https://localhost:8080/",
          "height": 295
        },
        "id": "CrorzRaFJBSc",
        "outputId": "9d9ddb93-f677-481b-ff59-88b569c509e8"
      },
      "source": [
        "# Ploting the graph for Training and Validation Loss\n",
        "\n",
        "from matplotlib import pyplot as plt\n",
        "plt.plot(range(0,10), H.history[\"loss\"], \"r\", label = \"Training Loss\")\n",
        "plt.plot(range(0,10), H.history[\"val_loss\"], \"b\", label = \"Validation Loss\")\n",
        "plt.title(\"Loss in ANN\")\n",
        "plt.legend(loc = \"upper right\")\n",
        "plt.xlabel(\"Number of Epochs\")\n",
        "plt.ylabel(\"Training and Validation Loss\")\n",
        "plt.show()"
      ],
      "execution_count": 9,
      "outputs": [
        {
          "output_type": "display_data",
          "data": {
            "image/png": "[encoded data removed]",
            "text/plain": [
              "<Figure size 432x288 with 1 Axes>"
            ]
          },
          "metadata": {
            "tags": [],
            "needs_background": "light"
          }
        }
      ]
    },
    {
      "cell_type": "code",
      "metadata": {
        "colab": {
          "base_uri": "https://localhost:8080/",
          "height": 295
        },
        "id": "GImW5KDxJDQ9",
        "outputId": "6da2bf2e-f348-4ee5-c732-a630a21d411f"
      },
      "source": [
        "# Ploting the graph for Training and Validation Accuracy\n",
        "\n",
        "from matplotlib import pyplot as plt\n",
        "plt.plot(range(0,10), H.history[\"accuracy\"], \"r\", label = \"Training Accuracy\")\n",
        "plt.plot(range(0,10), H.history[\"val_accuracy\"], \"b\", label = \"Validation Accuracy\")\n",
        "plt.title(\"Accuracy in ANN\")\n",
        "plt.legend(loc = \"lower right\")\n",
        "plt.xlabel(\"Number of Epochs\")\n",
        "plt.ylabel(\"Training and Validation Accuracy\")\n",
        "plt.show()"
      ],
      "execution_count": 10,
      "outputs": [
        {
          "output_type": "display_data",
          "data": {
            "image/png": "[encoded data removed]",
            "text/plain": [
              "<Figure size 432x288 with 1 Axes>"
            ]
          },
          "metadata": {
            "tags": [],
            "needs_background": "light"
          }
        }
      ]
    },
    {
      "cell_type": "code",
      "metadata": {
        "colab": {
          "base_uri": "https://localhost:8080/"
        },
        "id": "EFYB4SMxJFek",
        "outputId": "e3ca095f-5046-4caa-837a-b359758342a4"
      },
      "source": [
        "# Predicting the Test Set\n",
        "\n",
        "pred_labels = model.predict_classes(X_test)\n",
        "print(pred_labels)\n",
        "test_label = np.argmax(y_test, axis=1)\n",
        "print(test_label)"
      ],
      "execution_count": 11,
      "outputs": [
        {
          "output_type": "stream",
          "text": [
            "/usr/local/lib/python3.7/dist-packages/keras/engine/sequential.py:450: UserWarning: `model.predict_classes()` is deprecated and will be removed after 2021-01-01. Please use instead:* `np.argmax(model.predict(x), axis=-1)`,   if your model does multi-class classification   (e.g. if it uses a `softmax` last-layer activation).* `(model.predict(x) > 0.5).astype(\"int32\")`,   if your model does binary classification   (e.g. if it uses a `sigmoid` last-layer activation).\n",
            "  warnings.warn('`model.predict_classes()` is deprecated and '\n"
          ],
          "name": "stderr"
        },
        {
          "output_type": "stream",
          "text": [
            "[9 2 1 ... 8 1 5]\n",
            "[9 2 1 ... 8 1 5]\n"
          ],
          "name": "stdout"
        }
      ]
    },
    {
      "cell_type": "code",
      "metadata": {
        "colab": {
          "base_uri": "https://localhost:8080/"
        },
        "id": "X42mWfEYJHtC",
        "outputId": "d30866bf-466b-4ce3-ef87-407711b11e53"
      },
      "source": [
        "# Confusion matrix\n",
        "\n",
        "from sklearn.metrics import confusion_matrix\n",
        "\n",
        "matrix = confusion_matrix(test_label, pred_labels)\n",
        "print('Confusion matrix : \\n',matrix)"
      ],
      "execution_count": 12,
      "outputs": [
        {
          "output_type": "stream",
          "text": [
            "Confusion matrix : \n",
            " [[801   2  13  52   7   2 116   0   7   0]\n",
            " [  0 979   0  15   3   0   3   0   0   0]\n",
            " [  8   0 735  21 159   0  77   0   0   0]\n",
            " [  9  12   7 921  34   0  13   0   4   0]\n",
            " [  0   1  40  26 894   0  37   0   2   0]\n",
            " [  0   0   0   1   0 967   0  26   0   6]\n",
            " [ 95   3  64  63 100   0 662   0  13   0]\n",
            " [  0   0   0   0   0   9   0 978   0  13]\n",
            " [  3   0   3   7   4   2   2   1 978   0]\n",
            " [  0   0   0   0   0  10   1  49   0 940]]\n"
          ],
          "name": "stdout"
        }
      ]
    },
    {
      "cell_type": "code",
      "metadata": {
        "colab": {
          "base_uri": "https://localhost:8080/"
        },
        "id": "pqxpaTmaJKcH",
        "outputId": "dcde852f-849e-4a18-f88d-a5dd981167eb"
      },
      "source": [
        "# Classification report for precision, recall f1-score and accuracy\n",
        "\n",
        "from sklearn.metrics import classification_report\n",
        "\n",
        "report = classification_report(test_label,pred_labels)\n",
        "print('Classification report : \\n',report)"
      ],
      "execution_count": 13,
      "outputs": [
        {
          "output_type": "stream",
          "text": [
            "Classification report : \n",
            "               precision    recall  f1-score   support\n",
            "\n",
            "           0       0.87      0.80      0.84      1000\n",
            "           1       0.98      0.98      0.98      1000\n",
            "           2       0.85      0.73      0.79      1000\n",
            "           3       0.83      0.92      0.87      1000\n",
            "           4       0.74      0.89      0.81      1000\n",
            "           5       0.98      0.97      0.97      1000\n",
            "           6       0.73      0.66      0.69      1000\n",
            "           7       0.93      0.98      0.95      1000\n",
            "           8       0.97      0.98      0.98      1000\n",
            "           9       0.98      0.94      0.96      1000\n",
            "\n",
            "    accuracy                           0.89     10000\n",
            "   macro avg       0.89      0.89      0.88     10000\n",
            "weighted avg       0.89      0.89      0.88     10000\n",
            "\n"
          ],
          "name": "stdout"
        }
      ]
    }
  ]
}