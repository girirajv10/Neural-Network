{
  "nbformat": 4,
  "nbformat_minor": 0,
  "metadata": {
    "colab": {
      "name": "ANN on MNIST Number Dataset.ipynb",
      "provenance": [],
      "collapsed_sections": []
    },
    "kernelspec": {
      "name": "python3",
      "display_name": "Python 3"
    },
    "language_info": {
      "name": "python"
    }
  },
  "cells": [
    {
      "cell_type": "code",
      "metadata": {
        "id": "oMSFB5SMwtST"
      },
      "source": [
        "#########################################\n",
        "# ANN on MNIST Number Dataset\n",
        "# By Giriraj Vaishnav\n",
        "#########################################"
      ],
      "execution_count": 32,
      "outputs": []
    },
    {
      "cell_type": "code",
      "metadata": {
        "colab": {
          "base_uri": "https://localhost:8080/",
          "height": 282
        },
        "id": "sJ_LmizjxAPv",
        "outputId": "7febeb28-75f5-49f3-97cd-801f5dfa0cd3"
      },
      "source": [
        "# Loading the MNIST Dataset\n",
        "\n",
        "from keras.datasets import mnist\n",
        "import matplotlib.pyplot as plt\n",
        "(X_train,y_train), (X_test, y_test)= mnist.load_data()\n",
        "plt.subplot()\n",
        "plt.imshow(X_train[9], cmap=plt.get_cmap('gray'))"
      ],
      "execution_count": 33,
      "outputs": [
        {
          "output_type": "execute_result",
          "data": {
            "text/plain": [
              "<matplotlib.image.AxesImage at 0x7f990fb93d10>"
            ]
          },
          "metadata": {
            "tags": []
          },
          "execution_count": 33
        },
        {
          "output_type": "display_data",
          "data": {
            "image/png": "[encoded data removed]",
            "text/plain": [
              "<Figure size 432x288 with 1 Axes>"
            ]
          },
          "metadata": {
            "tags": [],
            "needs_background": "light"
          }
        }
      ]
    },
    {
      "cell_type": "code",
      "metadata": {
        "id": "WLMetryLxKyq"
      },
      "source": [
        "# Importing necessary libraries\n",
        "\n",
        "import numpy as np\n",
        "from keras.models import Sequential\n",
        "from keras.layers import Dense, Activation\n",
        "from keras.optimizers import SGD, Adam\n",
        "from keras.utils import np_utils"
      ],
      "execution_count": 34,
      "outputs": []
    },
    {
      "cell_type": "code",
      "metadata": {
        "id": "S4fyWhiIxVSg"
      },
      "source": [
        "# Reshape the Data\n",
        "\n",
        "number_pix=X_train.shape[1]*X_train.shape[2] \n",
        "X_train=X_train.reshape(X_train.shape[0], number_pix).astype('float32')\n",
        "X_test=X_test.reshape(X_test.shape[0], number_pix).astype('float32')"
      ],
      "execution_count": 35,
      "outputs": []
    },
    {
      "cell_type": "code",
      "metadata": {
        "colab": {
          "base_uri": "https://localhost:8080/"
        },
        "id": "lEGadCiwxV6O",
        "outputId": "2a908608-ee41-459b-b028-dfc6c445efce"
      },
      "source": [
        "# Normalize the data\n",
        "\n",
        "X_train=X_train/255\n",
        "X_test=X_test/255\n",
        "y_train= np_utils.to_categorical(y_train)\n",
        "y_test= np_utils.to_categorical(y_test)\n",
        "num_classes=y_train.shape[1]\n",
        "print(num_classes)"
      ],
      "execution_count": 36,
      "outputs": [
        {
          "output_type": "stream",
          "text": [
            "10\n"
          ],
          "name": "stdout"
        }
      ]
    },
    {
      "cell_type": "code",
      "metadata": {
        "id": "dmyrxtsQxYif",
        "colab": {
          "base_uri": "https://localhost:8080/"
        },
        "outputId": "5e0e812e-293d-415d-b1ad-63e54af27935"
      },
      "source": [
        "# Training the ANN model\n",
        "\n",
        "model=Sequential()\n",
        "model.add(Dense(number_pix, input_dim=number_pix, activation='relu'))\n",
        "model.add(Dense(num_classes, activation='softmax'))\n",
        "model.compile(loss='categorical_crossentropy', optimizer='Adam', metrics=['accuracy'])\n",
        "H = model.fit(X_train, y_train, validation_data=(X_test,y_test),epochs=10, batch_size=200, verbose=2)"
      ],
      "execution_count": 37,
      "outputs": [
        {
          "output_type": "stream",
          "text": [
            "Epoch 1/10\n",
            "300/300 - 5s - loss: 0.2758 - accuracy: 0.9224 - val_loss: 0.1346 - val_accuracy: 0.9606\n",
            "Epoch 2/10\n",
            "300/300 - 4s - loss: 0.1120 - accuracy: 0.9678 - val_loss: 0.0906 - val_accuracy: 0.9733\n",
            "Epoch 3/10\n",
            "300/300 - 4s - loss: 0.0706 - accuracy: 0.9793 - val_loss: 0.0839 - val_accuracy: 0.9749\n",
            "Epoch 4/10\n",
            "300/300 - 4s - loss: 0.0520 - accuracy: 0.9844 - val_loss: 0.0677 - val_accuracy: 0.9799\n",
            "Epoch 5/10\n",
            "300/300 - 4s - loss: 0.0364 - accuracy: 0.9890 - val_loss: 0.0671 - val_accuracy: 0.9790\n",
            "Epoch 6/10\n",
            "300/300 - 4s - loss: 0.0264 - accuracy: 0.9932 - val_loss: 0.0634 - val_accuracy: 0.9802\n",
            "Epoch 7/10\n",
            "300/300 - 4s - loss: 0.0200 - accuracy: 0.9950 - val_loss: 0.0670 - val_accuracy: 0.9804\n",
            "Epoch 8/10\n",
            "300/300 - 4s - loss: 0.0148 - accuracy: 0.9965 - val_loss: 0.0610 - val_accuracy: 0.9829\n",
            "Epoch 9/10\n",
            "300/300 - 4s - loss: 0.0120 - accuracy: 0.9972 - val_loss: 0.0631 - val_accuracy: 0.9799\n",
            "Epoch 10/10\n",
            "300/300 - 4s - loss: 0.0084 - accuracy: 0.9983 - val_loss: 0.0597 - val_accuracy: 0.9813\n"
          ],
          "name": "stdout"
        }
      ]
    },
    {
      "cell_type": "code",
      "metadata": {
        "colab": {
          "base_uri": "https://localhost:8080/"
        },
        "id": "fFWVQv8Sa1sp",
        "outputId": "783ed8fd-8a4d-40f9-a52b-e8a6214fc180"
      },
      "source": [
        "# Evaluating the model\n",
        "\n",
        "score= model.evaluate(X_test, y_test, verbose=0)\n",
        "print('The error is: %.2f%%'%(100-score[1]*100))"
      ],
      "execution_count": 38,
      "outputs": [
        {
          "output_type": "stream",
          "text": [
            "The error is: 1.87%\n"
          ],
          "name": "stdout"
        }
      ]
    },
    {
      "cell_type": "code",
      "metadata": {
        "colab": {
          "base_uri": "https://localhost:8080/",
          "height": 295
        },
        "id": "cPg_t8Cqcreh",
        "outputId": "f012f242-8a16-40cf-9393-8d677a0ae856"
      },
      "source": [
        "# Ploting the graph for Training and Validation Loss\n",
        "\n",
        "from matplotlib import pyplot as plt\n",
        "plt.plot(range(0,10), H.history[\"loss\"], \"r\", label = \"Training Loss\")\n",
        "plt.plot(range(0,10), H.history[\"val_loss\"], \"b\", label = \"Validation Loss\")\n",
        "plt.title(\"Loss in ANN\")\n",
        "plt.legend(loc = \"upper right\")\n",
        "plt.xlabel(\"Number of Epochs\")\n",
        "plt.ylabel(\"Training and Validation Loss\")\n",
        "plt.show()"
      ],
      "execution_count": 39,
      "outputs": [
        {
          "output_type": "display_data",
          "data": {
            "image/png": "[encoded data removed]",
            "text/plain": [
              "<Figure size 432x288 with 1 Axes>"
            ]
          },
          "metadata": {
            "tags": [],
            "needs_background": "light"
          }
        }
      ]
    },
    {
      "cell_type": "code",
      "metadata": {
        "colab": {
          "base_uri": "https://localhost:8080/",
          "height": 295
        },
        "id": "QwN4ySMZc5rr",
        "outputId": "9b66ce72-98d0-444f-8efc-f6fb27f7ddc4"
      },
      "source": [
        "# Ploting the graph for Training and Validation Accuracy\n",
        "\n",
        "from matplotlib import pyplot as plt\n",
        "plt.plot(range(0,10), H.history[\"accuracy\"], \"r\", label = \"Training Accuracy\")\n",
        "plt.plot(range(0,10), H.history[\"val_accuracy\"], \"b\", label = \"Validation Accuracy\")\n",
        "plt.title(\"Accuracy in ANN\")\n",
        "plt.legend(loc = \"lower right\")\n",
        "plt.xlabel(\"Number of Epochs\")\n",
        "plt.ylabel(\"Training and Validation Accuracy\")\n",
        "plt.show()"
      ],
      "execution_count": 40,
      "outputs": [
        {
          "output_type": "display_data",
          "data": {
            "image/png": "[encoded data removed]",
            "text/plain": [
              "<Figure size 432x288 with 1 Axes>"
            ]
          },
          "metadata": {
            "tags": [],
            "needs_background": "light"
          }
        }
      ]
    },
    {
      "cell_type": "code",
      "metadata": {
        "colab": {
          "base_uri": "https://localhost:8080/"
        },
        "id": "3L02gpD_x3H8",
        "outputId": "a8c8c2e2-9a4a-40cb-b628-6fdf0efefa38"
      },
      "source": [
        "# Predicting the Test Set\n",
        "\n",
        "pred_labels = model.predict_classes(X_test)\n",
        "print(pred_labels)\n",
        "test_label = np.argmax(y_test, axis=1)\n",
        "print(test_label)"
      ],
      "execution_count": 41,
      "outputs": [
        {
          "output_type": "stream",
          "text": [
            "/usr/local/lib/python3.7/dist-packages/keras/engine/sequential.py:450: UserWarning: `model.predict_classes()` is deprecated and will be removed after 2021-01-01. Please use instead:* `np.argmax(model.predict(x), axis=-1)`,   if your model does multi-class classification   (e.g. if it uses a `softmax` last-layer activation).* `(model.predict(x) > 0.5).astype(\"int32\")`,   if your model does binary classification   (e.g. if it uses a `sigmoid` last-layer activation).\n",
            "  warnings.warn('`model.predict_classes()` is deprecated and '\n"
          ],
          "name": "stderr"
        },
        {
          "output_type": "stream",
          "text": [
            "[7 2 1 ... 4 5 6]\n",
            "[7 2 1 ... 4 5 6]\n"
          ],
          "name": "stdout"
        }
      ]
    },
    {
      "cell_type": "code",
      "metadata": {
        "colab": {
          "base_uri": "https://localhost:8080/"
        },
        "id": "rd0z4a21yKEY",
        "outputId": "337c3af2-67b3-4fb0-e70e-26268b98f685"
      },
      "source": [
        "# Confusion matrix\n",
        "\n",
        "from sklearn.metrics import confusion_matrix\n",
        "\n",
        "matrix = confusion_matrix(test_label, pred_labels)\n",
        "print('Confusion matrix : \\n',matrix)"
      ],
      "execution_count": 42,
      "outputs": [
        {
          "output_type": "stream",
          "text": [
            "Confusion matrix : \n",
            " [[ 972    1    0    1    1    0    1    1    3    0]\n",
            " [   0 1129    1    2    0    1    2    0    0    0]\n",
            " [   5    3 1004    2    2    0    2    5    8    1]\n",
            " [   0    0    2  997    0    1    0    2    3    5]\n",
            " [   1    2    2    1  967    0    3    1    1    4]\n",
            " [   2    0    0   11    1  866    1    1    6    4]\n",
            " [   5    2    3    1    3    3  941    0    0    0]\n",
            " [   1    7    7    2    1    0    0 1000    2    8]\n",
            " [   2    1    3    3    0    2    1    3  956    3]\n",
            " [   3    4    0    4    7    2    0    5    3  981]]\n"
          ],
          "name": "stdout"
        }
      ]
    },
    {
      "cell_type": "code",
      "metadata": {
        "colab": {
          "base_uri": "https://localhost:8080/"
        },
        "id": "yb6dzXN8yQco",
        "outputId": "4a6188dc-a1aa-442e-ed53-3b90e08910cd"
      },
      "source": [
        "# Classification report for precision, recall f1-score and accuracy\n",
        "\n",
        "from sklearn.metrics import classification_report\n",
        "\n",
        "report = classification_report(test_label,pred_labels)\n",
        "print('Classification report : \\n',report)"
      ],
      "execution_count": 43,
      "outputs": [
        {
          "output_type": "stream",
          "text": [
            "Classification report : \n",
            "               precision    recall  f1-score   support\n",
            "\n",
            "           0       0.98      0.99      0.99       980\n",
            "           1       0.98      0.99      0.99      1135\n",
            "           2       0.98      0.97      0.98      1032\n",
            "           3       0.97      0.99      0.98      1010\n",
            "           4       0.98      0.98      0.98       982\n",
            "           5       0.99      0.97      0.98       892\n",
            "           6       0.99      0.98      0.99       958\n",
            "           7       0.98      0.97      0.98      1028\n",
            "           8       0.97      0.98      0.98       974\n",
            "           9       0.98      0.97      0.97      1009\n",
            "\n",
            "    accuracy                           0.98     10000\n",
            "   macro avg       0.98      0.98      0.98     10000\n",
            "weighted avg       0.98      0.98      0.98     10000\n",
            "\n"
          ],
          "name": "stdout"
        }
      ]
    }
  ]
}